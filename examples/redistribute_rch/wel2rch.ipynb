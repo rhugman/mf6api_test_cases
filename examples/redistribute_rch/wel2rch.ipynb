{
 "cells": [
  {
   "cell_type": "markdown",
   "metadata": {},
   "source": [
    "# Assign simulated WEL pumping rates to RCH\n",
    "\n",
    "In this notebook we demonstrate the use of the MODFLOW API to re-assign simulated well pumping rates as RCH, implemented at the system state solution level. The case demonstrated here is similar to what could be acomplished with the MDOFLOW 6 mover (MVR) package. However, the MVR package does not permit the RCH package as a receiver. \n",
    "\n",
    "We make use of a synthetic case. This case emulates a mine dewatering site in which dewater volumes are re-assigned as managed aquifer recharge. Well pumping rates are unknown beforehand. Here we emulate this with use of the AUTO_FLOW_REDUCE variable. If the AUTO_FLOW_REDUCE variable is set to a value which is greater than zero in the MODFLOW 6 well package input file, then the pumping rate assigned to a well is reduced if the head in the cell containing the well approaches the bottom of the aquifer.\n",
    "\n",
    "The synthetic model starts with a steady-state stress period, followed by a 1000 day transient stress period. It has a single unconfined layer. There is a single WEL placed in the center of the model domain with a constant rate of 270 m3/d during the transient period (and the AUTO_FLOW_REDUCE option active). There are no other stresses or boundary-conditions. The transient stress period starts off with hydraulic head at 0m, which gradualy drops as the pump is active.\n",
    "\n",
    "As the head at the well approaches the cell bottom, simulated pumping rates decrease. The MODFLOW API is used to access simulated pumping rates and re-assign these as recharge to two separate groups of nearby cells (emulating two managed aquifer recharge infiltration basins). Recharge is first assigned to one basin untill a \"maximum infiltration volume\" threshold is met. Then, the remainder of the simulating pumping rate is assigned to the second basin. "
   ]
  },
  {
   "cell_type": "code",
   "execution_count": 1,
   "metadata": {},
   "outputs": [],
   "source": [
    "import os \n",
    "import shutil\n",
    "import numpy as np\n",
    "import pandas as pd\n",
    "import matplotlib.pyplot as plt\n",
    "\n",
    "import sys\n",
    "sys.path.insert(0,os.path.join(\"..\", \"..\", \"dependencies\"))\n",
    "import flopy\n",
    "assert \"dependencies\" in flopy.__file__"
   ]
  },
  {
   "cell_type": "markdown",
   "metadata": {},
   "source": [
    "# Build the model"
   ]
  },
  {
   "cell_type": "code",
   "execution_count": 2,
   "metadata": {},
   "outputs": [],
   "source": [
    "sim_name = 'model'\n",
    "\n",
    "## make model dir\n",
    "sim_ws = os.path.join('.',sim_name)\n",
    "if os.path.exists(sim_ws):\n",
    "    shutil.rmtree(sim_ws)\n",
    "else:\n",
    "    os.makedirs(sim_ws)\n",
    "\n",
    "# set executables path\n",
    "if sys.platform == \"win32\":\n",
    "    mf6_dll = \"libmf6.dll\"\n",
    "    exe_name='mf6.exe'\n",
    "else:\n",
    "    mf6_dll = \"libmf6.so\"\n",
    "    exe_name='mf6'\n",
    "    \n",
    "bin_dir = os.path.abspath('../../bin/')\n",
    "mf6_exe = os.path.abspath(os.path.join(bin_dir, exe_name))\n",
    "mf6_dll = os.path.abspath(os.path.join(bin_dir, mf6_dll))\n",
    "\n",
    "# instantiate simulation\n",
    "sim = flopy.mf6.MFSimulation(sim_name=sim_name, continue_=True,\n",
    "                            exe_name=mf6_exe,\n",
    "                            version=\"mf6\", \n",
    "                            sim_ws=sim_ws, verbosity_level=0)"
   ]
  },
  {
   "cell_type": "code",
   "execution_count": 3,
   "metadata": {},
   "outputs": [],
   "source": [
    "# define the time units for the simulation. All model inputs must have time-units of \"day\"\n",
    "time_units = 'days'\n",
    "#perioddata[perlen, nstp, tsmult]\n",
    "perioddata = [(1.0, 1, 1.0), (1000.0, 100, 1.0)]\n",
    "# the number of periods is 1\n",
    "nper = len(perioddata)\n",
    "# Create the TDIS Object\n",
    "tdis = flopy.mf6.ModflowTdis(sim, pname=\"tdis\",\n",
    "                                  nper=nper, \n",
    "                                  perioddata=perioddata, \n",
    "                                  time_units=time_units)"
   ]
  },
  {
   "cell_type": "code",
   "execution_count": 4,
   "metadata": {},
   "outputs": [
    {
     "name": "stdout",
     "output_type": "stream",
     "text": [
      "<flopy.mf6.data.mfstructure.MFDataItemStructure object at 0x00000223B95D15E0>\n"
     ]
    }
   ],
   "source": [
    "# Instantiate the Flopy groundwater flow (gwf) model object, refercing the \"sim\" Simulation Object\n",
    "model_name = 'gwf'\n",
    "gwf = flopy.mf6.ModflowGwf(sim,\n",
    "                            modelname=model_name, newtonoptions=\"newton\",\n",
    "                            save_flows=True, print_flows=True)\n",
    "# Instantiate a Flopy `IMS` Package object\n",
    "# Here you can set all the solver settings.\n",
    "nouter = 500\n",
    "ninner = 100\n",
    "hclose = 1e-9\n",
    "rclose = 1e-6\n",
    "\n",
    "ims = flopy.mf6.ModflowIms(\n",
    "            sim,\n",
    "            print_option=\"summary\",\n",
    "            linear_acceleration=\"bicgstab\",\n",
    "            outer_maximum=nouter,\n",
    "            outer_dvclose=hclose,\n",
    "            inner_maximum=ninner,\n",
    "            inner_dvclose=hclose,\n",
    "            rcloserecord=\"{} strict\".format(rclose),\n",
    "        )\n",
    "# lastly we need to register the MF6 model to an IMS package in the Simulation\n",
    "sim.register_ims_package(ims, [gwf.name])"
   ]
  },
  {
   "cell_type": "code",
   "execution_count": 5,
   "metadata": {},
   "outputs": [
    {
     "name": "stdout",
     "output_type": "stream",
     "text": [
      "Cell size:100 x 100\n",
      "Number of rows:15\n",
      "Number of columns:10\n"
     ]
    }
   ],
   "source": [
    "# set the length units. All model input values must have untis of length in \"meters\"\n",
    "length_units = \"METERS\"\n",
    "# number of layers\n",
    "nlay = 1\n",
    "\n",
    "# define the number of rows/columns\n",
    "Lx = 1000\n",
    "Ly = 1500\n",
    "# we want our model grid to have cell sizes of 100 x 100 m\n",
    "delr = 100 #row length\n",
    "delc = 100 #column length\n",
    "print(f'Cell size:{delr} x {delc}')\n",
    "# we can compute the number of rows/columns:\n",
    "ncol = int(Lx/delc)\n",
    "nrow = int(Ly/delr)\n",
    "print(f'Number of rows:{nrow}')\n",
    "print(f'Number of columns:{ncol}')\n",
    "# surface elevation of the systme is flat and equal to 50 m above some reference (e.g. sea-level)\n",
    "top = 10\n",
    "# the bottom of the upper-aquifer is at 40m; the aquitard at 35m and the lower aquifer at 0m\n",
    "botm = -10\n",
    "\n",
    "# create the DIS object\n",
    "dis = flopy.mf6.ModflowGwfdis(\n",
    "                            gwf,\n",
    "                            nlay=nlay,\n",
    "                            nrow=nrow,\n",
    "                            ncol=ncol,\n",
    "                            delr=delr,\n",
    "                            delc=delc,\n",
    "                            top=top,\n",
    "                            botm=botm)"
   ]
  },
  {
   "cell_type": "code",
   "execution_count": 6,
   "metadata": {},
   "outputs": [],
   "source": [
    "# Now we can create the IC package\n",
    "ic = flopy.mf6.ModflowGwfic(gwf, pname=\"ic\", strt=top)"
   ]
  },
  {
   "cell_type": "code",
   "execution_count": 7,
   "metadata": {},
   "outputs": [],
   "source": [
    "# Next, let's create the NPF pacakge to assign values of hydraulic conductivity (K)\n",
    "k = 1\n",
    "# let us set the top layer as variably saturated (i.e. unconfiend) and the others as saturated\n",
    "icelltype = 1\n",
    "npf = flopy.mf6.ModflowGwfnpf(gwf, icelltype=icelltype, k=k, k33=k,\n",
    "                              save_flows=True, \n",
    "                              save_specific_discharge=True) # so that we can plot specific discharge later"
   ]
  },
  {
   "cell_type": "code",
   "execution_count": 8,
   "metadata": {},
   "outputs": [],
   "source": [
    "# CHD along both sides\n",
    "chd_spd={}\n",
    "spd = []\n",
    "for row in range(nrow):\n",
    "    spd.append(((0, row, 0), 0, 'chd'))\n",
    "    spd.append(((0, row, ncol-1), 0, 'chd'))\n",
    "chd_spd[0] = spd\n",
    "chd_spd[1] = []\n",
    "chd = flopy.mf6.ModflowGwfchd(gwf, stress_period_data=chd_spd, boundnames=True)\n",
    "\n",
    "chd_obs = {('chd.csv'): [ ('chd', 'CHD', 'chd')]}\n",
    "chd.obs.initialize(digits=9, print_input=False,  \n",
    "                   continuous=chd_obs)"
   ]
  },
  {
   "cell_type": "code",
   "execution_count": 9,
   "metadata": {},
   "outputs": [],
   "source": [
    "# the name of the binary head file\n",
    "headfile = f\"{gwf.name}.hds\"\n",
    "head_filerecord = [headfile]\n",
    "# the name of the binary budget file\n",
    "budgetfile = f\"{gwf.name}.cbb\"\n",
    "budget_filerecord = [budgetfile]\n",
    "\n",
    "# which outputs are recored to the binary files\n",
    "saverecord = [(\"HEAD\", \"ALL\"), (\"BUDGET\", \"ALL\")]\n",
    "# which outputs are printed in the list file\n",
    "printrecord = [(\"HEAD\", \"ALL\"), (\"BUDGET\", \"ALL\")]\n",
    "oc = flopy.mf6.ModflowGwfoc(gwf,\n",
    "                            saverecord=saverecord,\n",
    "                            head_filerecord=head_filerecord,\n",
    "                            budget_filerecord=budget_filerecord,\n",
    "                            printrecord=printrecord)"
   ]
  },
  {
   "cell_type": "code",
   "execution_count": 10,
   "metadata": {},
   "outputs": [],
   "source": [
    "ss = nlay * [1e-5]\n",
    "sy = nlay * [0.2]\n",
    "\n",
    "sto = flopy.mf6.ModflowGwfsto(gwf,\n",
    "                                steady_state={0:True, }, \n",
    "                                transient={1:True},\n",
    "                                iconvert = [1],\n",
    "                                ss=ss, \n",
    "                                sy=sy,\n",
    "                                save_flows=True)"
   ]
  },
  {
   "cell_type": "code",
   "execution_count": 11,
   "metadata": {},
   "outputs": [],
   "source": [
    "# dewatering WEL\n",
    "wel_spd_data={}\n",
    "wel_spd_data[1] = [((0,int(nrow/2),int(ncol/2)), -2*135, 'wel')]\n",
    "\n",
    "wel = flopy.mf6.ModflowGwfwel(gwf, stress_period_data=wel_spd_data, \n",
    "                                boundnames=True, pname='wel-1',\n",
    "                                auto_flow_reduce=1e-1,  afrcsv_filerecord ='hd1h_well_reduce.csv')\n",
    "\n",
    "# build obs data \n",
    "wel_obs = {('wel.csv'):[('wel','WEL','wel')]}\n",
    "\n",
    "# initialize obs package\n",
    "wel.obs.initialize(digits=9, print_input=True, \n",
    "                   continuous=wel_obs)"
   ]
  },
  {
   "cell_type": "markdown",
   "metadata": {},
   "source": [
    "### Empty package for API\n",
    "\n",
    "We will be assigning the managed aquifer recharge using an \"empty\" API package by instantiating a `flopy.mf6.ModflowGwfapi()`. (This is similar to the approach implemented in the modflow api paper \"Custom EVT Package\" example.) During the MODFLOW API assisted run, we will access this package, define active nodes and assign recharge values. \n"
   ]
  },
  {
   "cell_type": "code",
   "execution_count": 12,
   "metadata": {},
   "outputs": [],
   "source": [
    "api_package = flopy.mf6.ModflowGwfapi(gwf, \n",
    "                        pname=\"MAR\", \n",
    "                        maxbound=ncol*nrow) "
   ]
  },
  {
   "cell_type": "code",
   "execution_count": 13,
   "metadata": {},
   "outputs": [],
   "source": [
    "# Write the model files\n",
    "sim.write_simulation()"
   ]
  },
  {
   "cell_type": "markdown",
   "metadata": {},
   "source": [
    "# Run with MODFLOW6\n",
    "\n",
    "First we will run the model without using the API. In this case only the wel is active, there is no managed aquifer recharge being re-assigned."
   ]
  },
  {
   "cell_type": "code",
   "execution_count": 14,
   "metadata": {},
   "outputs": [],
   "source": [
    "success, buff = sim.run_simulation()\n",
    "if not success:\n",
    "    raise Exception(\"MODFLOW 6 did not terminate normally.\")"
   ]
  },
  {
   "cell_type": "markdown",
   "metadata": {},
   "source": [
    "# Postprocess\n",
    "Make a plot of heads at the end of the model run."
   ]
  },
  {
   "cell_type": "code",
   "execution_count": 15,
   "metadata": {},
   "outputs": [],
   "source": [
    "def plot_heads():\n",
    "    hds = gwf.output.head()\n",
    "    heads = hds.get_alldata()\n",
    "\n",
    "    head = heads[-1]\n",
    "\n",
    "    fig = plt.figure(figsize=(5, 5), constrained_layout=True)\n",
    "    # first instantiate a PlotMapView\n",
    "    mm = flopy.plot.PlotMapView(model=gwf, layer=0)\n",
    "\n",
    "    # Plot heads\n",
    "    # plot the array of heads \n",
    "    head_array = mm.plot_array(head, cmap='Blues')\n",
    "    # add contour lines with contour_array()\n",
    "    contours = mm.contour_array(head, colors='black')\n",
    "    # add labels to contour lines\n",
    "    plt.clabel(contours, fmt=\"%2.1f\")\n",
    "    # add a color bar\n",
    "    cb = plt.colorbar(head_array, shrink=0.5, )\n",
    "    cb.ax.set_title('Heads')\n",
    "    # Plot grid \n",
    "    # you can plot BC cells using the plot_bc() \n",
    "    #mm.plot_bc('CHD', color='blue', alpha=0.2)\n",
    "    # and plot the model grid if desired\n",
    "    mm.plot_grid(lw=0.5)\n",
    "    return"
   ]
  },
  {
   "cell_type": "code",
   "execution_count": 16,
   "metadata": {},
   "outputs": [
    {
     "data": {
      "image/png": "[encoded data removed]",
      "text/plain": [
       "<Figure size 360x360 with 2 Axes>"
      ]
     },
     "metadata": {
      "needs_background": "light"
     },
     "output_type": "display_data"
    }
   ],
   "source": [
    "# make plot of heads\n",
    "plot_heads()"
   ]
  },
  {
   "cell_type": "code",
   "execution_count": 17,
   "metadata": {},
   "outputs": [],
   "source": [
    "# get budget observations from lst file\n",
    "def extract_hds_arrays_and_list_dfs(workspace='.'):\n",
    "    import os\n",
    "    import flopy\n",
    "    lst = flopy.utils.Mf6ListBudget(os.path.join(workspace, \"gwf.lst\"))\n",
    "    inc,cum = lst.get_dataframes(diff=True,start_datetime=None)\n",
    "    inc.columns = inc.columns.map(lambda x: x.lower().replace(\"_\",\"-\"))\n",
    "    cum.columns = cum.columns.map(lambda x: x.lower().replace(\"_\", \"-\"))\n",
    "    inc.index.name = \"totim\"\n",
    "    cum.index.name = \"totim\"\n",
    "    inc.to_csv(os.path.join(workspace, \"inc.csv\"))\n",
    "    cum.to_csv(os.path.join(workspace, \"cum.csv\"))\n",
    "    print('budget values written to: inc.csv,cum.csv')\n",
    "    return inc, cum"
   ]
  },
  {
   "cell_type": "markdown",
   "metadata": {},
   "source": [
    "### Check the WEL rates\n",
    "\n",
    "As you can see in the plot below, despite a constant asigned pumping rate of 270 $m{^3}/d$, WEL rates decline over time as the aquifer is depleted."
   ]
  },
  {
   "cell_type": "code",
   "execution_count": 18,
   "metadata": {},
   "outputs": [
    {
     "name": "stdout",
     "output_type": "stream",
     "text": [
      "budget values written to: inc.csv,cum.csv\n"
     ]
    },
    {
     "data": {
      "text/plain": [
       "<AxesSubplot:xlabel='totim'>"
      ]
     },
     "execution_count": 18,
     "metadata": {},
     "output_type": "execute_result"
    },
    {
     "data": {
      "image/png": "[encoded data removed]",
      "text/plain": [
       "<Figure size 432x288 with 1 Axes>"
      ]
     },
     "metadata": {
      "needs_background": "light"
     },
     "output_type": "display_data"
    }
   ],
   "source": [
    "inc0, cum0 = extract_hds_arrays_and_list_dfs(sim_ws)\n",
    "inc0.plot(y=['wel'])"
   ]
  },
  {
   "cell_type": "markdown",
   "metadata": {},
   "source": [
    "# MODFLOW API\n",
    "\n",
    "Now we will run the model using the MODFLOW API. "
   ]
  },
  {
   "cell_type": "code",
   "execution_count": 19,
   "metadata": {},
   "outputs": [],
   "source": [
    "from modflowapi import ModflowApi"
   ]
  },
  {
   "cell_type": "markdown",
   "metadata": {},
   "source": [
    "The following couple of functions are used during the model run."
   ]
  },
  {
   "cell_type": "code",
   "execution_count": 20,
   "metadata": {},
   "outputs": [],
   "source": [
    "def get_rhs_per_node(tot_vol_in, nodes):\n",
    "    node_height = tot_vol_in / cell_areas[nodes].sum()\n",
    "    node_vols = node_height * cell_areas[nodes]\n",
    "    return node_vols"
   ]
  },
  {
   "cell_type": "code",
   "execution_count": 21,
   "metadata": {},
   "outputs": [],
   "source": [
    "def set_mar_rhs(nodes, tot_vol_in):\n",
    "    node_vols = get_rhs_per_node(tot_vol_in, nodes)\n",
    "    # now we can update the MAR package RHS variable\n",
    "    # we need to assign new values only to the correct indices which correpsond to MAR nodes\n",
    "    # this requires finding the array indeiices which corresnpodn to the MAR\n",
    "    node_indices = np.where(np.in1d(mar_nodes, nodes))[0]\n",
    "    rhs[node_indices] = -1 * node_vols #-1 because recharge is subtracted from RHS\n",
    "    return"
   ]
  },
  {
   "cell_type": "markdown",
   "metadata": {},
   "source": [
    "### Start the API managed model run:"
   ]
  },
  {
   "cell_type": "code",
   "execution_count": 22,
   "metadata": {},
   "outputs": [
    {
     "name": "stdout",
     "output_type": "stream",
     "text": [
      "Starting MF6 API managed run.\n",
      "Model simulation time: 0.0 mar_n: 0.0 mar_s: 0\n",
      "Model simulation time: 1.0 mar_n: 140 mar_s: 130.0\n",
      "Model simulation time: 11.0 mar_n: 140 mar_s: 130.0\n",
      "Model simulation time: 21.0 mar_n: 140 mar_s: 130.0\n",
      "Model simulation time: 31.0 mar_n: 140 mar_s: 130.0\n",
      "Model simulation time: 41.0 mar_n: 140 mar_s: 130.0\n",
      "Model simulation time: 51.0 mar_n: 140 mar_s: 130.0\n",
      "Model simulation time: 61.0 mar_n: 140 mar_s: 130.0\n",
      "Model simulation time: 71.0 mar_n: 140 mar_s: 130.0\n",
      "Model simulation time: 81.0 mar_n: 140 mar_s: 130.0\n",
      "Model simulation time: 91.0 mar_n: 140 mar_s: 130.0\n",
      "Model simulation time: 101.0 mar_n: 140 mar_s: 130.0\n",
      "Model simulation time: 111.0 mar_n: 140 mar_s: 130.0\n",
      "Model simulation time: 121.0 mar_n: 140 mar_s: 130.0\n",
      "Model simulation time: 131.0 mar_n: 140 mar_s: 130.0\n",
      "Model simulation time: 141.0 mar_n: 140 mar_s: 130.0\n",
      "Model simulation time: 151.0 mar_n: 140 mar_s: 130.0\n",
      "Model simulation time: 161.0 mar_n: 140 mar_s: 127.54730955892444\n",
      "Model simulation time: 171.0 mar_n: 140 mar_s: 118.79694863755378\n",
      "Model simulation time: 181.0 mar_n: 140 mar_s: 109.83976337750175\n",
      "Model simulation time: 191.0 mar_n: 140 mar_s: 102.78398857036115\n",
      "Model simulation time: 201.0 mar_n: 140 mar_s: 97.60454904365844\n",
      "Model simulation time: 211.0 mar_n: 140 mar_s: 93.79728676353125\n",
      "Model simulation time: 221.0 mar_n: 140 mar_s: 90.90513406516766\n",
      "Model simulation time: 231.0 mar_n: 140 mar_s: 88.6106712230631\n",
      "Model simulation time: 241.0 mar_n: 140 mar_s: 86.712587592375\n",
      "Model simulation time: 251.0 mar_n: 140 mar_s: 85.08706667104795\n",
      "Model simulation time: 261.0 mar_n: 140 mar_s: 83.65794317325071\n",
      "Model simulation time: 271.0 mar_n: 140 mar_s: 82.37740155243523\n",
      "Model simulation time: 281.0 mar_n: 140 mar_s: 81.21436017625157\n",
      "Model simulation time: 291.0 mar_n: 140 mar_s: 80.14770297169838\n",
      "Model simulation time: 301.0 mar_n: 140 mar_s: 79.16238181599616\n",
      "Model simulation time: 311.0 mar_n: 140 mar_s: 78.24716783574488\n",
      "Model simulation time: 321.0 mar_n: 140 mar_s: 77.39333702183387\n",
      "Model simulation time: 331.0 mar_n: 140 mar_s: 76.5938840155807\n",
      "Model simulation time: 341.0 mar_n: 140 mar_s: 75.84303679578778\n",
      "Model simulation time: 351.0 mar_n: 140 mar_s: 75.13594378528302\n",
      "Model simulation time: 361.0 mar_n: 140 mar_s: 74.46846659811376\n",
      "Model simulation time: 371.0 mar_n: 140 mar_s: 73.83703283709545\n",
      "Model simulation time: 381.0 mar_n: 140 mar_s: 73.23853016503065\n",
      "Model simulation time: 391.0 mar_n: 140 mar_s: 72.67022640869385\n",
      "Model simulation time: 401.0 mar_n: 140 mar_s: 72.12970776220138\n",
      "Model simulation time: 411.0 mar_n: 140 mar_s: 71.61482991156126\n",
      "Model simulation time: 421.0 mar_n: 140 mar_s: 71.12367868933933\n",
      "Model simulation time: 431.0 mar_n: 140 mar_s: 70.65453795148312\n",
      "Model simulation time: 441.0 mar_n: 140 mar_s: 70.20586304953264\n",
      "Model simulation time: 451.0 mar_n: 140 mar_s: 69.77625871457028\n",
      "Model simulation time: 461.0 mar_n: 140 mar_s: 69.36446046819401\n",
      "Model simulation time: 471.0 mar_n: 140 mar_s: 68.96931888579658\n",
      "Model simulation time: 481.0 mar_n: 140 mar_s: 68.58978618903458\n",
      "Model simulation time: 491.0 mar_n: 140 mar_s: 68.22490475649022\n",
      "Model simulation time: 501.0 mar_n: 140 mar_s: 67.87379722586022\n",
      "Model simulation time: 511.0 mar_n: 140 mar_s: 67.53565792561096\n",
      "Model simulation time: 521.0 mar_n: 140 mar_s: 67.20974542402405\n",
      "Model simulation time: 531.0 mar_n: 140 mar_s: 66.89537602274376\n",
      "Model simulation time: 541.0 mar_n: 140 mar_s: 66.59191805290416\n",
      "Model simulation time: 551.0 mar_n: 140 mar_s: 66.29878685661495\n",
      "Model simulation time: 561.0 mar_n: 140 mar_s: 66.01544035637872\n",
      "Model simulation time: 571.0 mar_n: 140 mar_s: 65.74137513108204\n",
      "Model simulation time: 581.0 mar_n: 140 mar_s: 65.47612293018472\n",
      "Model simulation time: 591.0 mar_n: 140 mar_s: 65.21924756844876\n",
      "Model simulation time: 601.0 mar_n: 140 mar_s: 64.97034215227939\n",
      "Model simulation time: 611.0 mar_n: 140 mar_s: 64.72902659605498\n",
      "Model simulation time: 621.0 mar_n: 140 mar_s: 64.49494539281972\n",
      "Model simulation time: 631.0 mar_n: 140 mar_s: 64.26776560877425\n",
      "Model simulation time: 641.0 mar_n: 140 mar_s: 64.04717508771898\n",
      "Model simulation time: 651.0 mar_n: 140 mar_s: 63.832880858239974\n",
      "Model simulation time: 661.0 mar_n: 140 mar_s: 63.62460765560263\n",
      "Model simulation time: 671.0 mar_n: 140 mar_s: 63.422096564966864\n",
      "Model simulation time: 681.0 mar_n: 140 mar_s: 63.225103785198\n",
      "Model simulation time: 691.0 mar_n: 140 mar_s: 63.033399505272\n",
      "Model simulation time: 701.0 mar_n: 140 mar_s: 62.84676688294908\n",
      "Model simulation time: 711.0 mar_n: 140 mar_s: 62.66500111525636\n",
      "Model simulation time: 721.0 mar_n: 140 mar_s: 62.48790859106731\n",
      "Model simulation time: 731.0 mar_n: 140 mar_s: 62.31530611705483\n",
      "Model simulation time: 741.0 mar_n: 140 mar_s: 62.147020209335494\n",
      "Model simulation time: 751.0 mar_n: 140 mar_s: 61.982886444078275\n",
      "Model simulation time: 761.0 mar_n: 140 mar_s: 61.822748861130265\n",
      "Model simulation time: 771.0 mar_n: 140 mar_s: 61.66645941545178\n",
      "Model simulation time: 781.0 mar_n: 140 mar_s: 61.51387747179288\n",
      "Model simulation time: 791.0 mar_n: 140 mar_s: 61.364869338502416\n",
      "Model simulation time: 801.0 mar_n: 140 mar_s: 61.21930783689058\n",
      "Model simulation time: 811.0 mar_n: 140 mar_s: 61.077071902910745\n",
      "Model simulation time: 821.0 mar_n: 140 mar_s: 60.938046218307704\n",
      "Model simulation time: 831.0 mar_n: 140 mar_s: 60.802120868658676\n",
      "Model simulation time: 841.0 mar_n: 140 mar_s: 60.66919102600593\n",
      "Model simulation time: 851.0 mar_n: 140 mar_s: 60.53915665401192\n",
      "Model simulation time: 861.0 mar_n: 140 mar_s: 60.41192223376524\n",
      "Model simulation time: 871.0 mar_n: 140 mar_s: 60.28739650852299\n",
      "Model simulation time: 881.0 mar_n: 140 mar_s: 60.16549224586956\n",
      "Model simulation time: 891.0 mar_n: 140 mar_s: 60.04612601587462\n",
      "Model simulation time: 901.0 mar_n: 140 mar_s: 59.92921798398993\n",
      "Model simulation time: 911.0 mar_n: 140 mar_s: 59.81469171753625\n",
      "Model simulation time: 921.0 mar_n: 140 mar_s: 59.7024740047201\n",
      "Model simulation time: 931.0 mar_n: 140 mar_s: 59.59249468523336\n",
      "Model simulation time: 941.0 mar_n: 140 mar_s: 59.48468649156467\n",
      "Model simulation time: 951.0 mar_n: 140 mar_s: 59.37898490022894\n",
      "Model simulation time: 961.0 mar_n: 140 mar_s: 59.27532799217991\n",
      "Model simulation time: 971.0 mar_n: 140 mar_s: 59.1736563217552\n",
      "Model simulation time: 981.0 mar_n: 140 mar_s: 59.073912793530695\n",
      "Model simulation time: 991.0 mar_n: 140 mar_s: 58.976042546531914\n",
      "MF6 terminated sucesfully.\n"
     ]
    }
   ],
   "source": [
    "# We will access package variables using the model and package Names\n",
    "name = gwf.name.upper()\n",
    "mar_package_name =  api_package.name[0].upper() \n",
    "\n",
    "# make a container to keep track of calcualted MAR rates\n",
    "mar = []\n",
    "\n",
    "# start the API\n",
    "print('Starting MF6 API managed run.')\n",
    "mf6 = ModflowApi(mf6_dll, working_directory=sim_ws)\n",
    "# initialize the model\n",
    "mf6.initialize()\n",
    "\n",
    "# get the API package NBOUND so that we can update it.\n",
    "nbound_address = mf6.get_var_address(\"NBOUND\", name.upper(), mar_package_name)\n",
    "nodelist_address = mf6.get_var_address(\"NODELIST\", name.upper(), mar_package_name)\n",
    "\n",
    "# access the values\n",
    "# .get_value() returns a copy; .get_value_ptr() returns a pointer to the values\n",
    "\n",
    "# get pointer to simulated heads; we will use this at the iteration level \n",
    "# to calculate if MAR must be redistributed\n",
    "head_tag = mf6.get_var_address(\"X\", name.upper())\n",
    "head = mf6.get_value_ptr(head_tag)\n",
    "\n",
    "# get cell tops\n",
    "top_address = mf6.get_var_address(\"TOP\", name.upper(), \"DIS\")\n",
    "cell_top = mf6.get_value(top_address)\n",
    "\n",
    "# get cell areas\n",
    "area_address = mf6.get_var_address(\"AREA\", name.upper(), \"DIS\")\n",
    "cell_areas = mf6.get_value(area_address)\n",
    "\n",
    "# get the MAR node numbers from lay,row,col\n",
    "mar_node_n = gwf.modelgrid.get_node([(0,5,5), (0,5,6), (0,5,7)])\n",
    "mar_node_s = gwf.modelgrid.get_node([(0,9,5), (0,9,6), (0,9,7)])\n",
    "# set the MAR package NODELIST\n",
    "mar_nodes = mar_node_n.copy()\n",
    "mar_nodes.extend(mar_node_s)\n",
    "mar_nodes=np.array(mar_nodes, dtype=np.int32)\n",
    "# update the NBOUND, we specify the number of nodes that are active in the package\n",
    "nbound = mf6.get_value_ptr(nbound_address)\n",
    "nbound[0] = mar_nodes.shape[0]\n",
    "# update the nodelist values, specifies which nodes are active\n",
    "mf6.set_value(nodelist_address, mar_nodes)\n",
    "\n",
    "# we will assign recharge by accesign the RHS (righ-hand-side) variable\n",
    "# for recharge, recharge rate per cell is added to RHS; see the MF6 manual re-RCH package\n",
    "rhs_address = mf6.get_var_address(\"RHS\", name.upper(), mar_package_name)\n",
    "# access rhs to provide a data structure for assigning later on\n",
    "rhs = mf6.get_value(rhs_address)\n",
    "\n",
    "# time loop\n",
    "current_time = mf6.get_current_time()\n",
    "end_time = mf6.get_end_time()\n",
    "\n",
    "# model time loop\n",
    "while current_time < end_time:\n",
    "    # get dt and prepare for non-linear iterations\n",
    "    dt = mf6.get_time_step()\n",
    "    mf6.prepare_time_step(dt)\n",
    "\n",
    "    # convergence loop\n",
    "    kiter = 0\n",
    "    mf6.prepare_solve(1)\n",
    "\n",
    "    # get the max number of iterations\n",
    "    address = [\"MXITER\", \"SLN_1\"]\n",
    "    mxittag = mf6.get_var_address(*address)\n",
    "    mxit = mf6.get_value_ptr(mxittag)\n",
    "    # try untill convergence or max number of iterations are reached\n",
    "    while kiter < mxit:\n",
    "        # get dewater volumes\n",
    "        wel_vol = abs(mf6.get_value(f'{name}/WEL-1/RHS')).sum()\n",
    "        \n",
    "        # specify the max mar rate for the north mar zone\n",
    "        max_mar_vol= 140\n",
    "        # if wel rates are grater than the max rate, assign the difference to the other zone\n",
    "        if wel_vol > max_mar_vol:\n",
    "            mar_vol_n = max_mar_vol\n",
    "            mar_vol_s = wel_vol - mar_vol_n\n",
    "        else:\n",
    "            mar_vol_n = wel_vol\n",
    "            mar_vol_s = 0\n",
    "        # update the rhs array\n",
    "        set_mar_rhs(mar_node_n, mar_vol_n)\n",
    "        set_mar_rhs(mar_node_s,  mar_vol_s)\n",
    "        # assign the updated array to the API package\n",
    "        mf6.set_value(rhs_address, rhs)  \n",
    "        \n",
    "        # solve the iteration\n",
    "        has_converged = mf6.solve(1)\n",
    "        # if conferegence is achieved, stop, otherwise repeat\n",
    "        kiter += 1\n",
    "        if has_converged:\n",
    "            break\n",
    "\n",
    "    # Finalize the time step\n",
    "    mf6.finalize_solve(1)\n",
    "    mar.append((current_time, mar_vol_n, mar_vol_s))\n",
    "    print('Model simulation time:', current_time, 'mar_n:',mar_vol_n, 'mar_s:',mar_vol_s )\n",
    "    # finalize time step and update time\n",
    "    mf6.finalize_time_step()\n",
    "    current_time = mf6.get_current_time()\n",
    "# finish the run\n",
    "mf6.finalize()\n",
    "print('MF6 terminated sucesfully.')"
   ]
  },
  {
   "cell_type": "markdown",
   "metadata": {},
   "source": [
    "# Postprocess:"
   ]
  },
  {
   "cell_type": "code",
   "execution_count": 23,
   "metadata": {},
   "outputs": [
    {
     "name": "stdout",
     "output_type": "stream",
     "text": [
      "budget values written to: inc.csv,cum.csv\n"
     ]
    }
   ],
   "source": [
    "# get the budget values\n",
    "inc1, cum1 = extract_hds_arrays_and_list_dfs(sim_ws)"
   ]
  },
  {
   "cell_type": "markdown",
   "metadata": {},
   "source": [
    "Check if the budget of the API and WEL pacakges match. Rates into the API packge should be equal to rates out of the WEL package:"
   ]
  },
  {
   "cell_type": "code",
   "execution_count": 24,
   "metadata": {},
   "outputs": [
    {
     "data": {
      "text/plain": [
       "<AxesSubplot:xlabel='totim'>"
      ]
     },
     "execution_count": 24,
     "metadata": {},
     "output_type": "execute_result"
    },
    {
     "data": {
      "image/png": "[encoded data removed]",
      "text/plain": [
       "<Figure size 432x288 with 1 Axes>"
      ]
     },
     "metadata": {
      "needs_background": "light"
     },
     "output_type": "display_data"
    }
   ],
   "source": [
    "(inc1.api / inc1.wel).plot()"
   ]
  },
  {
   "cell_type": "markdown",
   "metadata": {},
   "source": [
    "Plot API (or managed aquifer recharge) and WEL rates over time:"
   ]
  },
  {
   "cell_type": "code",
   "execution_count": 25,
   "metadata": {},
   "outputs": [
    {
     "data": {
      "text/plain": [
       "<AxesSubplot:xlabel='totim'>"
      ]
     },
     "execution_count": 25,
     "metadata": {},
     "output_type": "execute_result"
    },
    {
     "data": {
      "image/png": "[encoded data removed]",
      "text/plain": [
       "<Figure size 432x288 with 1 Axes>"
      ]
     },
     "metadata": {
      "needs_background": "light"
     },
     "output_type": "display_data"
    }
   ],
   "source": [
    "inc1.plot(y=['api', 'wel'])"
   ]
  },
  {
   "cell_type": "markdown",
   "metadata": {},
   "source": [
    "Compare simulated WEL pumping rates with and without managed aquifer recharge:"
   ]
  },
  {
   "cell_type": "code",
   "execution_count": 26,
   "metadata": {},
   "outputs": [
    {
     "data": {
      "text/plain": [
       "<matplotlib.legend.Legend at 0x223ba0ae190>"
      ]
     },
     "execution_count": 26,
     "metadata": {},
     "output_type": "execute_result"
    },
    {
     "data": {
      "image/png": "[encoded data removed]",
      "text/plain": [
       "<Figure size 432x288 with 1 Axes>"
      ]
     },
     "metadata": {
      "needs_background": "light"
     },
     "output_type": "display_data"
    }
   ],
   "source": [
    "inc0.wel.plot(label='no MAR')\n",
    "inc1.wel.plot(label='with MAR')\n",
    "plt.legend()"
   ]
  },
  {
   "cell_type": "markdown",
   "metadata": {},
   "source": [
    "Make a plot of heads at the end of the model run time. Note the mound at the northern managed aquifer recharge zone. Recharge in the southern zone is less noticebale at ths scale. This is because, as WEL rates decrease, managed aquifer recharge to the southern zone is decreased first."
   ]
  },
  {
   "cell_type": "code",
   "execution_count": 27,
   "metadata": {},
   "outputs": [
    {
     "data": {
      "image/png": "[encoded data removed]",
      "text/plain": [
       "<Figure size 360x360 with 2 Axes>"
      ]
     },
     "metadata": {
      "needs_background": "light"
     },
     "output_type": "display_data"
    }
   ],
   "source": [
    "plot_heads()"
   ]
  },
  {
   "cell_type": "markdown",
   "metadata": {},
   "source": [
    "Plot the time series of managed aquifer recharge rates to each zone:"
   ]
  },
  {
   "cell_type": "code",
   "execution_count": 28,
   "metadata": {},
   "outputs": [
    {
     "data": {
      "text/plain": [
       "<AxesSubplot:xlabel='time'>"
      ]
     },
     "execution_count": 28,
     "metadata": {},
     "output_type": "execute_result"
    },
    {
     "data": {
      "image/png": "[encoded data removed]",
      "text/plain": [
       "<Figure size 432x288 with 1 Axes>"
      ]
     },
     "metadata": {
      "needs_background": "light"
     },
     "output_type": "display_data"
    }
   ],
   "source": [
    "mar = pd.DataFrame(mar, columns=['time', 'mar_n', 'mar_s']).set_index('time')\n",
    "mar.plot()"
   ]
  }
 ],
 "metadata": {
  "kernelspec": {
   "display_name": "Python 3.9.13 ('apitest')",
   "language": "python",
   "name": "python3"
  },
  "language_info": {
   "codemirror_mode": {
    "name": "ipython",
    "version": 3
   },
   "file_extension": ".py",
   "mimetype": "text/x-python",
   "name": "python",
   "nbconvert_exporter": "python",
   "pygments_lexer": "ipython3",
   "version": "3.9.13"
  },
  "vscode": {
   "interpreter": {
    "hash": "737f51b69f924bdca763a2dac27360737eba0e7ef15b83593928775d85fa2730"
   }
  }
 },
 "nbformat": 4,
 "nbformat_minor": 2
}
