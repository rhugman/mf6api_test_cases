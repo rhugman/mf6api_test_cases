{
 "cells": [
  {
   "cell_type": "code",
   "execution_count": 1,
   "metadata": {},
   "outputs": [],
   "source": [
    "import os \n",
    "import shutil\n",
    "import flopy\n",
    "import numpy as np\n",
    "import pandas as pd\n",
    "import matplotlib.pyplot as plt"
   ]
  },
  {
   "cell_type": "code",
   "execution_count": 2,
   "metadata": {},
   "outputs": [],
   "source": [
    "sim_name = 'model'\n",
    "\n",
    "## make model dir\n",
    "sim_ws = os.path.join('.',sim_name)\n",
    "if os.path.exists(sim_ws):\n",
    "    shutil.rmtree(sim_ws)\n",
    "else:\n",
    "    os.makedirs(sim_ws)\n",
    "\n",
    "# set executables path\n",
    "if sys.platform == \"win32\":\n",
    "    mf6_dll = \"libmf6.dll\"\n",
    "    exe_name='mf6.exe'\n",
    "else:\n",
    "    mf6_dll = \"libmf6.so\"\n",
    "    exe_name='mf6'\n",
    "    \n",
    "bin_dir = os.path.abspath('../../bin/')\n",
    "mf6_exe = os.path.abspath(os.path.join(bin_dir, exe_name))\n",
    "mf6_dll = os.path.abspath(os.path.join(bin_dir, mf6_dll))\n",
    "\n",
    "# instantiate simulation\n",
    "sim = flopy.mf6.MFSimulation(sim_name=sim_name, continue_=True,\n",
    "                            exe_name=mf6_exe,\n",
    "                            version=\"mf6\", \n",
    "                            sim_ws=sim_ws)"
   ]
  },
  {
   "cell_type": "code",
   "execution_count": 3,
   "metadata": {},
   "outputs": [],
   "source": [
    "# define the time units for the simulation. All model inputs must have time-units of \"day\"\n",
    "time_units = 'days'\n",
    "#perioddata[perlen, nstp, tsmult]\n",
    "perioddata = [(1.0, 1, 1.0), (1000.0, 100, 1.0)]\n",
    "# the number of periods is 1\n",
    "nper = len(perioddata)\n",
    "# Create the TDIS Object\n",
    "tdis = flopy.mf6.ModflowTdis(sim, pname=\"tdis\",\n",
    "                                  nper=nper, \n",
    "                                  perioddata=perioddata, \n",
    "                                  time_units=time_units)"
   ]
  },
  {
   "cell_type": "code",
   "execution_count": 4,
   "metadata": {},
   "outputs": [
    {
     "name": "stdout",
     "output_type": "stream",
     "text": [
      "<flopy.mf6.data.mfstructure.MFDataItemStructure object at 0x0000014F50D99F10>\n"
     ]
    }
   ],
   "source": [
    "# Instantiate the Flopy groundwater flow (gwf) model object, refercing the \"sim\" Simulation Object\n",
    "model_name = 'gwf'\n",
    "gwf = flopy.mf6.ModflowGwf(sim,\n",
    "                            modelname=model_name, newtonoptions=\"newton\",\n",
    "                            save_flows=True, print_flows=True)\n",
    "# Instantiate a Flopy `IMS` Package object\n",
    "# Here you can set all the solver settings.\n",
    "nouter = 500\n",
    "ninner = 100\n",
    "hclose = 1e-9\n",
    "rclose = 1e-6\n",
    "\n",
    "ims = flopy.mf6.ModflowIms(\n",
    "            sim,\n",
    "            print_option=\"summary\",\n",
    "            linear_acceleration=\"bicgstab\",\n",
    "            outer_maximum=nouter,\n",
    "            outer_dvclose=hclose,\n",
    "            inner_maximum=ninner,\n",
    "            inner_dvclose=hclose,\n",
    "            rcloserecord=\"{} strict\".format(rclose),\n",
    "        )\n",
    "# lastly we need to register the MF6 model to an IMS package in the Simulation\n",
    "sim.register_ims_package(ims, [gwf.name])"
   ]
  },
  {
   "cell_type": "code",
   "execution_count": 5,
   "metadata": {},
   "outputs": [
    {
     "name": "stdout",
     "output_type": "stream",
     "text": [
      "Cell size:100 x 100\n",
      "Number of rows:15\n",
      "Number of columns:10\n"
     ]
    }
   ],
   "source": [
    "# set the length units. All model input values must have untis of length in \"meters\"\n",
    "length_units = \"METERS\"\n",
    "# number of layers\n",
    "nlay = 1\n",
    "\n",
    "# define the number of rows/columns\n",
    "Lx = 1000\n",
    "Ly = 1500\n",
    "# we want our model grid to have cell sizes of 100 x 100 m\n",
    "delr = 100 #row length\n",
    "delc = 100 #column length\n",
    "print(f'Cell size:{delr} x {delc}')\n",
    "# we can compute the number of rows/columns:\n",
    "ncol = int(Lx/delc)\n",
    "nrow = int(Ly/delr)\n",
    "print(f'Number of rows:{nrow}')\n",
    "print(f'Number of columns:{ncol}')\n",
    "# surface elevation of the systme is flat and equal to 50 m above some reference (e.g. sea-level)\n",
    "top = 1\n",
    "# the bottom of the upper-aquifer is at 40m; the aquitard at 35m and the lower aquifer at 0m\n",
    "botm = -10\n",
    "\n",
    "# create the DIS object\n",
    "dis = flopy.mf6.ModflowGwfdis(\n",
    "                            gwf,\n",
    "                            nlay=nlay,\n",
    "                            nrow=nrow,\n",
    "                            ncol=ncol,\n",
    "                            delr=delr,\n",
    "                            delc=delc,\n",
    "                            top=top,\n",
    "                            botm=botm)"
   ]
  },
  {
   "cell_type": "code",
   "execution_count": 6,
   "metadata": {},
   "outputs": [],
   "source": [
    "# Now we can create the IC package\n",
    "ic = flopy.mf6.ModflowGwfic(gwf, pname=\"ic\", strt=top)"
   ]
  },
  {
   "cell_type": "code",
   "execution_count": 7,
   "metadata": {},
   "outputs": [],
   "source": [
    "# Next, let's create the NPF pacakge to assign values of hydraulic conductivity (K)\n",
    "k = 1\n",
    "# let us set the top layer as variably saturated (i.e. unconfiend) and the others as saturated\n",
    "icelltype = 1\n",
    "npf = flopy.mf6.ModflowGwfnpf(gwf, icelltype=icelltype, k=k, k33=k,\n",
    "                              save_flows=True, \n",
    "                              save_specific_discharge=True) # so that we can plot specific discharge later"
   ]
  },
  {
   "cell_type": "code",
   "execution_count": 8,
   "metadata": {},
   "outputs": [],
   "source": [
    "# CHD along both sides\n",
    "chd_spd={}\n",
    "spd = []\n",
    "for row in range(nrow):\n",
    "    spd.append(((0, row, 0), 0, 'chd'))\n",
    "    spd.append(((0, row, ncol-1), 0, 'chd'))\n",
    "chd_spd[0] = spd\n",
    "chd_spd[1] = []\n",
    "chd = flopy.mf6.ModflowGwfchd(gwf, stress_period_data=chd_spd, boundnames=True)\n",
    "\n",
    "chd_obs = {('chd.csv'): [ ('chd', 'CHD', 'chd')]}\n",
    "chd.obs.initialize(digits=9, print_input=False,  \n",
    "                   continuous=chd_obs)"
   ]
  },
  {
   "cell_type": "code",
   "execution_count": 9,
   "metadata": {},
   "outputs": [],
   "source": [
    "# the name of the binary head file\n",
    "headfile = f\"{gwf.name}.hds\"\n",
    "head_filerecord = [headfile]\n",
    "# the name of the binary budget file\n",
    "budgetfile = f\"{gwf.name}.cbb\"\n",
    "budget_filerecord = [budgetfile]\n",
    "\n",
    "# which outputs are recored to the binary files\n",
    "saverecord = [(\"HEAD\", \"ALL\"), (\"BUDGET\", \"ALL\")]\n",
    "# which outputs are printed in the list file\n",
    "printrecord = [(\"HEAD\", \"ALL\"), (\"BUDGET\", \"ALL\")]\n",
    "oc = flopy.mf6.ModflowGwfoc(gwf,\n",
    "                            saverecord=saverecord,\n",
    "                            head_filerecord=head_filerecord,\n",
    "                            budget_filerecord=budget_filerecord,\n",
    "                            printrecord=printrecord)"
   ]
  },
  {
   "cell_type": "code",
   "execution_count": 10,
   "metadata": {},
   "outputs": [],
   "source": [
    "ss = nlay * [1e-5]\n",
    "sy = nlay * [0.2]\n",
    "\n",
    "sto = flopy.mf6.ModflowGwfsto(gwf,\n",
    "                                steady_state={0:True, }, \n",
    "                                transient={1:True},\n",
    "                                iconvert = [1],\n",
    "                                ss=ss, \n",
    "                                sy=sy,\n",
    "                                save_flows=True)"
   ]
  },
  {
   "cell_type": "code",
   "execution_count": 11,
   "metadata": {},
   "outputs": [],
   "source": [
    "# dewatering WEL\n",
    "wel_spd_data={}\n",
    "wel_spd_data[1] = [((0,int(nrow/2),int(ncol/2)), -2*135, 'wel')]\n",
    "\n",
    "wel = flopy.mf6.ModflowGwfwel(gwf, stress_period_data=wel_spd_data, \n",
    "                                boundnames=True, pname='wel-1',\n",
    "                                auto_flow_reduce=1e-1,  afrcsv_filerecord ='hd1h_well_reduce.csv')\n",
    "\n",
    "# build obs data \n",
    "wel_obs = {('wel.csv'):[('wel','WEL','wel')]}\n",
    "\n",
    "# initialize obs package\n",
    "wel.obs.initialize(digits=9, print_input=True, \n",
    "                   continuous=wel_obs)"
   ]
  },
  {
   "cell_type": "code",
   "execution_count": 12,
   "metadata": {},
   "outputs": [],
   "source": [
    "# surface drn package\n",
    "drnspd = {}\n",
    "drnspd_i = []\n",
    "for row in range(nrow):\n",
    "    for col in range(ncol): \n",
    "        drnu_spd = [(0, row, col), top, 100000, 'surf']\n",
    "        drnspd_i.append(drnu_spd)\n",
    "\n",
    "drnspd[0] = drnspd_i\n",
    "\n",
    "#initilize pacakge\n",
    "drn = flopy.mf6.ModflowGwfdrn(gwf, stress_period_data=drnspd, \n",
    "                            boundnames=True,save_flows=True, \n",
    "                            pname='drn-0')\n",
    "\n",
    "# build obs data\n",
    "drn_obs = { ('drn.surf.csv'):[('surf', 'DRN', 'surf')]}\n",
    "\n",
    "# initialize obs package\n",
    "drn.obs.initialize(digits=9, print_input=False,continuous=drn_obs)"
   ]
  },
  {
   "cell_type": "code",
   "execution_count": null,
   "metadata": {},
   "outputs": [],
   "source": []
  },
  {
   "cell_type": "markdown",
   "metadata": {},
   "source": [
    "### Empty package for API\n",
    "\n",
    "In the modflow api paper \"Custom EVT Package\" example they start by generating an \"empty\" package with `flopy.mf6.ModflowGwfapi`. This is later accessed and updated at the iteartion level to update  `rhs` and `hcof`. They also update the `nodelist` that pertains to the package.\n",
    "\n",
    "The other examples do not have this \"empty\" package. They update existing ones. I have tried with both approaches. Opting to test with changing an existing package (RCH_0). The commented out lines below is generates an empty package if required.\n",
    "\n"
   ]
  },
  {
   "cell_type": "code",
   "execution_count": 13,
   "metadata": {},
   "outputs": [],
   "source": [
    "api_package = flopy.mf6.ModflowGwfapi(gwf, \n",
    "                        pname=\"MAR\", \n",
    "                        maxbound=ncol*nrow) # the MAX number of cells, make sure this is >= than the number of nodes being used later on"
   ]
  },
  {
   "cell_type": "markdown",
   "metadata": {},
   "source": [
    "## Write the Model files"
   ]
  },
  {
   "cell_type": "code",
   "execution_count": 14,
   "metadata": {},
   "outputs": [
    {
     "name": "stdout",
     "output_type": "stream",
     "text": [
      "writing simulation...\n",
      "  writing simulation name file...\n",
      "  writing simulation tdis package...\n",
      "  writing ims package ims_-1...\n",
      "  writing model gwf...\n",
      "    writing model name file...\n",
      "    writing package dis...\n",
      "    writing package ic...\n",
      "    writing package npf...\n",
      "    writing package chd_0...\n",
      "INFORMATION: maxbound in ('gwf6', 'chd', 'dimensions') changed to 30 based on size of stress_period_data\n",
      "    writing package obs_0...\n",
      "    writing package oc...\n",
      "    writing package sto...\n",
      "    writing package wel-1...\n",
      "INFORMATION: maxbound in ('gwf6', 'wel', 'dimensions') changed to 1 based on size of stress_period_data\n",
      "    writing package obs_1...\n",
      "    writing package drn-0...\n",
      "INFORMATION: maxbound in ('gwf6', 'drn', 'dimensions') changed to 150 based on size of stress_period_data\n",
      "    writing package obs_2...\n",
      "    writing package mar...\n"
     ]
    }
   ],
   "source": [
    "# Write the model files\n",
    "sim.write_simulation()"
   ]
  },
  {
   "cell_type": "code",
   "execution_count": 15,
   "metadata": {},
   "outputs": [
    {
     "name": "stdout",
     "output_type": "stream",
     "text": [
      "FloPy is using the following executable to run the model: d:\\Workspace\\hugm0001\\github\\mf6api_test_cases\\bin\\mf6.exe\n",
      "                                   MODFLOW 6\n",
      "                U.S. GEOLOGICAL SURVEY MODULAR HYDROLOGIC MODEL\n",
      "                   VERSION 6.4.0 release candidate 07/06/2022\n",
      "                               ***DEVELOP MODE***\n",
      "\n",
      "   MODFLOW 6 compiled Jul 06 2022 19:38:41 with Intel(R) Fortran Intel(R) 64\n",
      "   Compiler Classic for applications running on Intel(R) 64, Version 2021.6.0\n",
      "                             Build 20220226_000000\n",
      "\n",
      "This software is preliminary or provisional and is subject to \n",
      "revision. It is being provided to meet the need for timely best \n",
      "science. The software has not received final approval by the U.S. \n",
      "Geological Survey (USGS). No warranty, expressed or implied, is made \n",
      "by the USGS or the U.S. Government as to the functionality of the \n",
      "software and related material nor shall the fact of release \n",
      "constitute any such warranty. The software is provided on the \n",
      "condition that neither the USGS nor the U.S. Government shall be held \n",
      "liable for any damages resulting from the authorized or unauthorized \n",
      "use of the software.\n",
      "\n",
      " \n",
      " Run start date and time (yyyy/mm/dd hh:mm:ss): 2022/07/16 10:13:32\n",
      " \n",
      " Writing simulation list file: mfsim.lst\n",
      " Using Simulation name file: mfsim.nam\n",
      " \n",
      "    Solving:  Stress period:     1    Time step:     1\n",
      "    Solving:  Stress period:     2    Time step:     1\n",
      "    Solving:  Stress period:     2    Time step:     2\n",
      "    Solving:  Stress period:     2    Time step:     3\n",
      "    Solving:  Stress period:     2    Time step:     4\n",
      "    Solving:  Stress period:     2    Time step:     5\n",
      "    Solving:  Stress period:     2    Time step:     6\n",
      "    Solving:  Stress period:     2    Time step:     7\n",
      "    Solving:  Stress period:     2    Time step:     8\n",
      "    Solving:  Stress period:     2    Time step:     9\n",
      "    Solving:  Stress period:     2    Time step:    10\n",
      "    Solving:  Stress period:     2    Time step:    11\n",
      "    Solving:  Stress period:     2    Time step:    12\n",
      "    Solving:  Stress period:     2    Time step:    13\n",
      "    Solving:  Stress period:     2    Time step:    14\n",
      "    Solving:  Stress period:     2    Time step:    15\n",
      "    Solving:  Stress period:     2    Time step:    16\n",
      "    Solving:  Stress period:     2    Time step:    17\n",
      "    Solving:  Stress period:     2    Time step:    18\n",
      "    Solving:  Stress period:     2    Time step:    19\n",
      "    Solving:  Stress period:     2    Time step:    20\n",
      "    Solving:  Stress period:     2    Time step:    21\n",
      "    Solving:  Stress period:     2    Time step:    22\n",
      "    Solving:  Stress period:     2    Time step:    23\n",
      "    Solving:  Stress period:     2    Time step:    24\n",
      "    Solving:  Stress period:     2    Time step:    25\n",
      "    Solving:  Stress period:     2    Time step:    26\n",
      "    Solving:  Stress period:     2    Time step:    27\n",
      "    Solving:  Stress period:     2    Time step:    28\n",
      "    Solving:  Stress period:     2    Time step:    29\n",
      "    Solving:  Stress period:     2    Time step:    30\n",
      "    Solving:  Stress period:     2    Time step:    31\n",
      "    Solving:  Stress period:     2    Time step:    32\n",
      "    Solving:  Stress period:     2    Time step:    33\n",
      "    Solving:  Stress period:     2    Time step:    34\n",
      "    Solving:  Stress period:     2    Time step:    35\n",
      "    Solving:  Stress period:     2    Time step:    36\n",
      "    Solving:  Stress period:     2    Time step:    37\n",
      "    Solving:  Stress period:     2    Time step:    38\n",
      "    Solving:  Stress period:     2    Time step:    39\n",
      "    Solving:  Stress period:     2    Time step:    40\n",
      "    Solving:  Stress period:     2    Time step:    41\n",
      "    Solving:  Stress period:     2    Time step:    42\n",
      "    Solving:  Stress period:     2    Time step:    43\n",
      "    Solving:  Stress period:     2    Time step:    44\n",
      "    Solving:  Stress period:     2    Time step:    45\n",
      "    Solving:  Stress period:     2    Time step:    46\n",
      "    Solving:  Stress period:     2    Time step:    47\n",
      "    Solving:  Stress period:     2    Time step:    48\n",
      "    Solving:  Stress period:     2    Time step:    49\n",
      "    Solving:  Stress period:     2    Time step:    50\n",
      "    Solving:  Stress period:     2    Time step:    51\n",
      "    Solving:  Stress period:     2    Time step:    52\n",
      "    Solving:  Stress period:     2    Time step:    53\n",
      "    Solving:  Stress period:     2    Time step:    54\n",
      "    Solving:  Stress period:     2    Time step:    55\n",
      "    Solving:  Stress period:     2    Time step:    56\n",
      "    Solving:  Stress period:     2    Time step:    57\n",
      "    Solving:  Stress period:     2    Time step:    58\n",
      "    Solving:  Stress period:     2    Time step:    59\n",
      "    Solving:  Stress period:     2    Time step:    60\n",
      "    Solving:  Stress period:     2    Time step:    61\n",
      "    Solving:  Stress period:     2    Time step:    62\n",
      "    Solving:  Stress period:     2    Time step:    63\n",
      "    Solving:  Stress period:     2    Time step:    64\n",
      "    Solving:  Stress period:     2    Time step:    65\n",
      "    Solving:  Stress period:     2    Time step:    66\n",
      "    Solving:  Stress period:     2    Time step:    67\n",
      "    Solving:  Stress period:     2    Time step:    68\n",
      "    Solving:  Stress period:     2    Time step:    69\n",
      "    Solving:  Stress period:     2    Time step:    70\n",
      "    Solving:  Stress period:     2    Time step:    71\n",
      "    Solving:  Stress period:     2    Time step:    72\n",
      "    Solving:  Stress period:     2    Time step:    73\n",
      "    Solving:  Stress period:     2    Time step:    74\n",
      "    Solving:  Stress period:     2    Time step:    75\n",
      "    Solving:  Stress period:     2    Time step:    76\n",
      "    Solving:  Stress period:     2    Time step:    77\n",
      "    Solving:  Stress period:     2    Time step:    78\n",
      "    Solving:  Stress period:     2    Time step:    79\n",
      "    Solving:  Stress period:     2    Time step:    80\n",
      "    Solving:  Stress period:     2    Time step:    81\n",
      "    Solving:  Stress period:     2    Time step:    82\n",
      "    Solving:  Stress period:     2    Time step:    83\n",
      "    Solving:  Stress period:     2    Time step:    84\n",
      "    Solving:  Stress period:     2    Time step:    85\n",
      "    Solving:  Stress period:     2    Time step:    86\n",
      "    Solving:  Stress period:     2    Time step:    87\n",
      "    Solving:  Stress period:     2    Time step:    88\n",
      "    Solving:  Stress period:     2    Time step:    89\n",
      "    Solving:  Stress period:     2    Time step:    90\n",
      "    Solving:  Stress period:     2    Time step:    91\n",
      "    Solving:  Stress period:     2    Time step:    92\n",
      "    Solving:  Stress period:     2    Time step:    93\n",
      "    Solving:  Stress period:     2    Time step:    94\n",
      "    Solving:  Stress period:     2    Time step:    95\n",
      "    Solving:  Stress period:     2    Time step:    96\n",
      "    Solving:  Stress period:     2    Time step:    97\n",
      "    Solving:  Stress period:     2    Time step:    98\n",
      "    Solving:  Stress period:     2    Time step:    99\n",
      "    Solving:  Stress period:     2    Time step:   100\n",
      " \n",
      " Run end date and time (yyyy/mm/dd hh:mm:ss): 2022/07/16 10:13:33\n",
      " Elapsed run time:  1.399 Seconds\n",
      " \n",
      " Normal termination of simulation.\n"
     ]
    }
   ],
   "source": [
    "success, buff = sim.run_simulation()\n",
    "if not success:\n",
    "    raise Exception(\"MODFLOW 6 did not terminate normally.\")"
   ]
  },
  {
   "cell_type": "code",
   "execution_count": 16,
   "metadata": {},
   "outputs": [],
   "source": [
    "# get budget observations from lst file\n",
    "def extract_hds_arrays_and_list_dfs(workspace='.'):\n",
    "    import os\n",
    "    import flopy\n",
    "    lst = flopy.utils.Mf6ListBudget(os.path.join(workspace, \"gwf.lst\"))\n",
    "    inc,cum = lst.get_dataframes(diff=True,start_datetime=None)\n",
    "    inc.columns = inc.columns.map(lambda x: x.lower().replace(\"_\",\"-\"))\n",
    "    cum.columns = cum.columns.map(lambda x: x.lower().replace(\"_\", \"-\"))\n",
    "    inc.index.name = \"totim\"\n",
    "    cum.index.name = \"totim\"\n",
    "    inc.to_csv(os.path.join(workspace, \"inc.csv\"))\n",
    "    cum.to_csv(os.path.join(workspace, \"cum.csv\"))\n",
    "    print('budget values written to: inc.csv,cum.csv')\n",
    "    return inc, cum"
   ]
  },
  {
   "cell_type": "code",
   "execution_count": 17,
   "metadata": {},
   "outputs": [
    {
     "name": "stdout",
     "output_type": "stream",
     "text": [
      "budget values written to: inc.csv,cum.csv\n"
     ]
    },
    {
     "data": {
      "text/html": [
       "<div>\n",
       "<style scoped>\n",
       "    .dataframe tbody tr th:only-of-type {\n",
       "        vertical-align: middle;\n",
       "    }\n",
       "\n",
       "    .dataframe tbody tr th {\n",
       "        vertical-align: top;\n",
       "    }\n",
       "\n",
       "    .dataframe thead th {\n",
       "        text-align: right;\n",
       "    }\n",
       "</style>\n",
       "<table border=\"1\" class=\"dataframe\">\n",
       "  <thead>\n",
       "    <tr style=\"text-align: right;\">\n",
       "      <th></th>\n",
       "      <th>api</th>\n",
       "      <th>chd</th>\n",
       "      <th>drn</th>\n",
       "      <th>in-out</th>\n",
       "      <th>percent-discrepancy</th>\n",
       "      <th>sto-ss</th>\n",
       "      <th>sto-sy</th>\n",
       "      <th>total</th>\n",
       "      <th>wel</th>\n",
       "    </tr>\n",
       "    <tr>\n",
       "      <th>totim</th>\n",
       "      <th></th>\n",
       "      <th></th>\n",
       "      <th></th>\n",
       "      <th></th>\n",
       "      <th></th>\n",
       "      <th></th>\n",
       "      <th></th>\n",
       "      <th></th>\n",
       "      <th></th>\n",
       "    </tr>\n",
       "  </thead>\n",
       "  <tbody>\n",
       "    <tr>\n",
       "      <th>1.0</th>\n",
       "      <td>0.0</td>\n",
       "      <td>-4.260006e-10</td>\n",
       "      <td>0.0</td>\n",
       "      <td>-4.264900e-10</td>\n",
       "      <td>-2.08</td>\n",
       "      <td>0.0000</td>\n",
       "      <td>0.000000</td>\n",
       "      <td>-4.260006e-10</td>\n",
       "      <td>0.0</td>\n",
       "    </tr>\n",
       "    <tr>\n",
       "      <th>11.0</th>\n",
       "      <td>0.0</td>\n",
       "      <td>0.000000e+00</td>\n",
       "      <td>0.0</td>\n",
       "      <td>-9.538300e-11</td>\n",
       "      <td>-0.00</td>\n",
       "      <td>0.1285</td>\n",
       "      <td>269.871490</td>\n",
       "      <td>0.000000e+00</td>\n",
       "      <td>-270.0</td>\n",
       "    </tr>\n",
       "    <tr>\n",
       "      <th>21.0</th>\n",
       "      <td>0.0</td>\n",
       "      <td>0.000000e+00</td>\n",
       "      <td>0.0</td>\n",
       "      <td>-2.527300e-10</td>\n",
       "      <td>-0.00</td>\n",
       "      <td>0.1191</td>\n",
       "      <td>269.880890</td>\n",
       "      <td>0.000000e+00</td>\n",
       "      <td>-270.0</td>\n",
       "    </tr>\n",
       "    <tr>\n",
       "      <th>31.0</th>\n",
       "      <td>0.0</td>\n",
       "      <td>0.000000e+00</td>\n",
       "      <td>0.0</td>\n",
       "      <td>-3.599900e-10</td>\n",
       "      <td>-0.00</td>\n",
       "      <td>0.1136</td>\n",
       "      <td>269.886414</td>\n",
       "      <td>0.000000e+00</td>\n",
       "      <td>-270.0</td>\n",
       "    </tr>\n",
       "    <tr>\n",
       "      <th>41.0</th>\n",
       "      <td>0.0</td>\n",
       "      <td>0.000000e+00</td>\n",
       "      <td>0.0</td>\n",
       "      <td>-3.981900e-10</td>\n",
       "      <td>-0.00</td>\n",
       "      <td>0.1102</td>\n",
       "      <td>269.889801</td>\n",
       "      <td>0.000000e+00</td>\n",
       "      <td>-270.0</td>\n",
       "    </tr>\n",
       "  </tbody>\n",
       "</table>\n",
       "</div>"
      ],
      "text/plain": [
       "       api           chd  drn        in-out  percent-discrepancy  sto-ss  \\\n",
       "totim                                                                      \n",
       "1.0    0.0 -4.260006e-10  0.0 -4.264900e-10                -2.08  0.0000   \n",
       "11.0   0.0  0.000000e+00  0.0 -9.538300e-11                -0.00  0.1285   \n",
       "21.0   0.0  0.000000e+00  0.0 -2.527300e-10                -0.00  0.1191   \n",
       "31.0   0.0  0.000000e+00  0.0 -3.599900e-10                -0.00  0.1136   \n",
       "41.0   0.0  0.000000e+00  0.0 -3.981900e-10                -0.00  0.1102   \n",
       "\n",
       "           sto-sy         total    wel  \n",
       "totim                                   \n",
       "1.0      0.000000 -4.260006e-10    0.0  \n",
       "11.0   269.871490  0.000000e+00 -270.0  \n",
       "21.0   269.880890  0.000000e+00 -270.0  \n",
       "31.0   269.886414  0.000000e+00 -270.0  \n",
       "41.0   269.889801  0.000000e+00 -270.0  "
      ]
     },
     "execution_count": 17,
     "metadata": {},
     "output_type": "execute_result"
    }
   ],
   "source": [
    "inc0, cum0 = extract_hds_arrays_and_list_dfs(sim_ws)\n",
    "inc0.head()"
   ]
  },
  {
   "cell_type": "code",
   "execution_count": null,
   "metadata": {},
   "outputs": [],
   "source": []
  },
  {
   "cell_type": "code",
   "execution_count": 18,
   "metadata": {},
   "outputs": [
    {
     "data": {
      "image/png": "[encoded data removed]",
      "text/plain": [
       "<Figure size 360x360 with 2 Axes>"
      ]
     },
     "metadata": {
      "needs_background": "light"
     },
     "output_type": "display_data"
    }
   ],
   "source": [
    "def plot_heads():\n",
    "    hds = gwf.output.head()\n",
    "    heads = hds.get_alldata()\n",
    "\n",
    "    head = heads[-1]\n",
    "\n",
    "    fig = plt.figure(figsize=(5, 5), constrained_layout=True)\n",
    "    # first instantiate a PlotMapView\n",
    "    mm = flopy.plot.PlotMapView(model=gwf, layer=0)\n",
    "\n",
    "    # Plot heads\n",
    "    # plot the array of heads \n",
    "    head_array = mm.plot_array(head, cmap='Blues')\n",
    "    # add contour lines with contour_array()\n",
    "    contours = mm.contour_array(head, colors='black')\n",
    "    # add labels to contour lines\n",
    "    plt.clabel(contours, fmt=\"%2.1f\")\n",
    "    # add a color bar\n",
    "    cb = plt.colorbar(head_array, shrink=0.5, )\n",
    "    cb.ax.set_title('Heads')\n",
    "    # Plot grid \n",
    "    # you can plot BC cells using the plot_bc() \n",
    "    #mm.plot_bc('CHD', color='blue', alpha=0.2)\n",
    "    # and plot the model grid if desired\n",
    "    mm.plot_grid(lw=0.5)\n",
    "    return\n",
    "\n",
    "plot_heads()"
   ]
  },
  {
   "cell_type": "markdown",
   "metadata": {},
   "source": [
    "# MODFLOW API"
   ]
  },
  {
   "cell_type": "code",
   "execution_count": 19,
   "metadata": {},
   "outputs": [],
   "source": [
    "from modflowapi import ModflowApi"
   ]
  },
  {
   "cell_type": "code",
   "execution_count": 20,
   "metadata": {},
   "outputs": [],
   "source": [
    "def get_rhs_per_node(tot_vol_in, nodes):\n",
    "    node_height = tot_vol_in / cell_areas[nodes].sum()\n",
    "    node_vols = node_height * cell_areas[nodes]\n",
    "    return node_vols"
   ]
  },
  {
   "cell_type": "code",
   "execution_count": 21,
   "metadata": {},
   "outputs": [],
   "source": [
    "def set_mar_rhs(nodes, tot_vol_in):\n",
    "    node_vols = get_rhs_per_node(tot_vol_in, nodes)\n",
    "    # now we can update the MAR package RHS variable\n",
    "    # we need to assign new values only to the correct indices which correpsond to MAR nodes\n",
    "    # this requires finding the array indeiices which corresnpodn to the MAR\n",
    "    node_indices = np.where(np.in1d(mar_nodes, nodes))[0]\n",
    "    rhs[node_indices] = -1 * node_vols #-1 because recharge is subtracted from RHS\n",
    "    return\n",
    "\n"
   ]
  },
  {
   "cell_type": "code",
   "execution_count": 28,
   "metadata": {},
   "outputs": [
    {
     "name": "stdout",
     "output_type": "stream",
     "text": [
      "Starting MF6 API managed run.\n",
      "MF6 terminated sucesfully.\n"
     ]
    }
   ],
   "source": [
    "# We will access package variables using the model and package Names\n",
    "name = gwf.name.upper()\n",
    "mar_package_name =  api_package.name[0].upper() \n",
    "\n",
    "# start the API\n",
    "print('Starting MF6 API managed run.')\n",
    "mf6 = ModflowApi(mf6_dll, working_directory=sim_ws)\n",
    "# initialize the model\n",
    "mf6.initialize()\n",
    "\n",
    "# get the API package NBOUND so that we can update it.\n",
    "nbound_address = mf6.get_var_address(\"NBOUND\", name.upper(), mar_package_name)\n",
    "nodelist_address = mf6.get_var_address(\"NODELIST\", name.upper(), mar_package_name)\n",
    "# access the values\n",
    "# .get_value() returns a copy; .get_value_ptr() returns a pointer to the values\n",
    "nbound = mf6.get_value_ptr(nbound_address)\n",
    "# get the nodelist for accesing later on\n",
    "mar_nodelist = mf6.get_value(nodelist_address)\n",
    "\n",
    "# we will assign recharge by accesign the RHS (righ-hand-side) variable\n",
    "# for recharge, recharge rate per cell is added to RHS; see the MF6 manual re-RCH package\n",
    "rhs_address = mf6.get_var_address(\"RHS\", name.upper(), mar_package_name)\n",
    "# access rhs to provide a data structure for assigning later on\n",
    "rhs = mf6.get_value(rhs_address)\n",
    "\n",
    "\n",
    "# get pointer to simulated heads; we will use this at the iteration level \n",
    "# to calcualte if MAR must be redistributed\n",
    "head_tag = mf6.get_var_address(\"X\", name.upper())\n",
    "head = mf6.get_value_ptr(head_tag)\n",
    "\n",
    "# get cell tops\n",
    "top_address = mf6.get_var_address(\"TOP\", name.upper(), \"DIS\")\n",
    "cell_top = mf6.get_value(top_address)\n",
    "\n",
    "# get cell areas\n",
    "area_address = mf6.get_var_address(\"AREA\", name.upper(), \"DIS\")\n",
    "cell_areas = mf6.get_value(area_address)\n",
    "\n",
    "\n",
    "# get areas for mar nodes;\n",
    "# get the MAR node numbers from lay,row,col\n",
    "mar_node_n = gwf.modelgrid.get_node([(0,5,5), (0,5,6), (0,5,7)])\n",
    "mar_node_s = gwf.modelgrid.get_node([(0,9,5), (0,9,6), (0,9,7)])\n",
    "\n",
    "# set the MAR package NODELIST\n",
    "mar_nodes = mar_node_n.copy()\n",
    "mar_nodes.extend(mar_node_s)\n",
    "mar_nodes=np.array(mar_nodes, dtype=np.int32)\n",
    "# update the NBOUND\n",
    "nbound[0] = mar_nodes.shape[0]\n",
    "# update the nodelist values\n",
    "mf6.set_value(nodelist_address, mar_nodes)\n",
    "\n",
    "# areas is for all nodes, thus the index value conveniently corresponds to node number\n",
    "mar_node_n_areas = cell_areas[mar_node_n]\n",
    "mar_node_s_areas = cell_areas[mar_node_s]\n",
    "\n",
    "\n",
    "# time loop\n",
    "current_time = mf6.get_current_time()\n",
    "end_time = mf6.get_end_time()\n",
    "\n",
    "# model time loop\n",
    "while current_time < end_time:\n",
    "    # get dt and prepare for non-linear iterations\n",
    "    dt = mf6.get_time_step()\n",
    "    mf6.prepare_time_step(dt)\n",
    "\n",
    "    # convergence loop\n",
    "    kiter = 0\n",
    "    mf6.prepare_solve(1)\n",
    "\n",
    "    address = [\"MXITER\", \"SLN_1\"]\n",
    "    mxittag = mf6.get_var_address(*address)\n",
    "    mxit = mf6.get_value_ptr(mxittag)\n",
    "\n",
    "    factor = 1.0\n",
    "    offset = 0\n",
    "    \n",
    "    \n",
    "    while kiter < mxit:\n",
    "        # get dewater volumes\n",
    "        wel_vol = abs(mf6.get_value(f'{name}/WEL-1/RHS')).sum()\n",
    "        drn_vol = abs(mf6.get_value(f'{name}/DRN-0/SIMVALS')).sum()\n",
    "        if current_time>1:\n",
    "            mar_vol_n = wel_vol - drn_vol\n",
    "            mar_vol_s = wel_vol-mar_vol_n\n",
    "\n",
    "            max_mar_vol = wel_vol\n",
    "            if wel_vol > max_mar_vol:\n",
    "                mar_vol_n = max_mar_vol\n",
    "                mar_vol_s = wel_vol - mar_vol_n\n",
    "            set_mar_rhs(mar_node_n, mar_vol_n)\n",
    "            set_mar_rhs(mar_node_s,  mar_vol_s)\n",
    "            mf6.set_value(rhs_address, rhs)  \n",
    "    \n",
    "\n",
    "        has_converged = mf6.solve(1)\n",
    "\n",
    "        kiter += 1\n",
    "        if has_converged:\n",
    "            break\n",
    "\n",
    "    # Finalize the time step\n",
    "    mf6.finalize_solve(1)\n",
    "    #print('Model simulation time:', current_time, 'mar_n:',mar_vol_n, 'mar_s:',mar_vol_s )\n",
    "    # finalize time step and update time\n",
    "    mf6.finalize_time_step()\n",
    "    current_time = mf6.get_current_time()\n",
    "# finish the run\n",
    "mf6.finalize()\n",
    "print('MF6 terminated sucesfully.')"
   ]
  },
  {
   "cell_type": "markdown",
   "metadata": {},
   "source": []
  },
  {
   "cell_type": "code",
   "execution_count": 29,
   "metadata": {},
   "outputs": [
    {
     "name": "stdout",
     "output_type": "stream",
     "text": [
      "budget values written to: inc.csv,cum.csv\n"
     ]
    },
    {
     "data": {
      "text/html": [
       "<div>\n",
       "<style scoped>\n",
       "    .dataframe tbody tr th:only-of-type {\n",
       "        vertical-align: middle;\n",
       "    }\n",
       "\n",
       "    .dataframe tbody tr th {\n",
       "        vertical-align: top;\n",
       "    }\n",
       "\n",
       "    .dataframe thead th {\n",
       "        text-align: right;\n",
       "    }\n",
       "</style>\n",
       "<table border=\"1\" class=\"dataframe\">\n",
       "  <thead>\n",
       "    <tr style=\"text-align: right;\">\n",
       "      <th></th>\n",
       "      <th>api</th>\n",
       "      <th>chd</th>\n",
       "      <th>drn</th>\n",
       "      <th>in-out</th>\n",
       "      <th>percent-discrepancy</th>\n",
       "      <th>sto-ss</th>\n",
       "      <th>sto-sy</th>\n",
       "      <th>total</th>\n",
       "      <th>wel</th>\n",
       "      <th>mar</th>\n",
       "    </tr>\n",
       "    <tr>\n",
       "      <th>totim</th>\n",
       "      <th></th>\n",
       "      <th></th>\n",
       "      <th></th>\n",
       "      <th></th>\n",
       "      <th></th>\n",
       "      <th></th>\n",
       "      <th></th>\n",
       "      <th></th>\n",
       "      <th></th>\n",
       "      <th></th>\n",
       "    </tr>\n",
       "  </thead>\n",
       "  <tbody>\n",
       "    <tr>\n",
       "      <th>1.0</th>\n",
       "      <td>0.0</td>\n",
       "      <td>-4.260006e-10</td>\n",
       "      <td>0.0000</td>\n",
       "      <td>-4.264900e-10</td>\n",
       "      <td>-2.08</td>\n",
       "      <td>0.000000</td>\n",
       "      <td>0.000000</td>\n",
       "      <td>-4.260006e-10</td>\n",
       "      <td>0.0</td>\n",
       "      <td>0.000000</td>\n",
       "    </tr>\n",
       "    <tr>\n",
       "      <th>11.0</th>\n",
       "      <td>0.0</td>\n",
       "      <td>0.000000e+00</td>\n",
       "      <td>0.0000</td>\n",
       "      <td>-9.538300e-11</td>\n",
       "      <td>-0.00</td>\n",
       "      <td>0.128500</td>\n",
       "      <td>269.871490</td>\n",
       "      <td>0.000000e+00</td>\n",
       "      <td>-270.0</td>\n",
       "      <td>0.000000</td>\n",
       "    </tr>\n",
       "    <tr>\n",
       "      <th>21.0</th>\n",
       "      <td>270.0</td>\n",
       "      <td>0.000000e+00</td>\n",
       "      <td>0.0000</td>\n",
       "      <td>-3.410600e-11</td>\n",
       "      <td>-0.00</td>\n",
       "      <td>-0.018000</td>\n",
       "      <td>0.018097</td>\n",
       "      <td>0.000000e+00</td>\n",
       "      <td>-270.0</td>\n",
       "      <td>270.000000</td>\n",
       "    </tr>\n",
       "    <tr>\n",
       "      <th>31.0</th>\n",
       "      <td>270.0</td>\n",
       "      <td>0.000000e+00</td>\n",
       "      <td>0.0000</td>\n",
       "      <td>-2.804700e-10</td>\n",
       "      <td>-0.00</td>\n",
       "      <td>-0.027100</td>\n",
       "      <td>0.027191</td>\n",
       "      <td>0.000000e+00</td>\n",
       "      <td>-270.0</td>\n",
       "      <td>270.000000</td>\n",
       "    </tr>\n",
       "    <tr>\n",
       "      <th>41.0</th>\n",
       "      <td>270.0</td>\n",
       "      <td>0.000000e+00</td>\n",
       "      <td>-29.3046</td>\n",
       "      <td>3.353800e-11</td>\n",
       "      <td>0.00</td>\n",
       "      <td>-0.016573</td>\n",
       "      <td>29.321198</td>\n",
       "      <td>0.000000e+00</td>\n",
       "      <td>-270.0</td>\n",
       "      <td>240.695404</td>\n",
       "    </tr>\n",
       "  </tbody>\n",
       "</table>\n",
       "</div>"
      ],
      "text/plain": [
       "         api           chd      drn        in-out  percent-discrepancy  \\\n",
       "totim                                                                    \n",
       "1.0      0.0 -4.260006e-10   0.0000 -4.264900e-10                -2.08   \n",
       "11.0     0.0  0.000000e+00   0.0000 -9.538300e-11                -0.00   \n",
       "21.0   270.0  0.000000e+00   0.0000 -3.410600e-11                -0.00   \n",
       "31.0   270.0  0.000000e+00   0.0000 -2.804700e-10                -0.00   \n",
       "41.0   270.0  0.000000e+00 -29.3046  3.353800e-11                 0.00   \n",
       "\n",
       "         sto-ss      sto-sy         total    wel         mar  \n",
       "totim                                                         \n",
       "1.0    0.000000    0.000000 -4.260006e-10    0.0    0.000000  \n",
       "11.0   0.128500  269.871490  0.000000e+00 -270.0    0.000000  \n",
       "21.0  -0.018000    0.018097  0.000000e+00 -270.0  270.000000  \n",
       "31.0  -0.027100    0.027191  0.000000e+00 -270.0  270.000000  \n",
       "41.0  -0.016573   29.321198  0.000000e+00 -270.0  240.695404  "
      ]
     },
     "execution_count": 29,
     "metadata": {},
     "output_type": "execute_result"
    }
   ],
   "source": [
    "inc1, cum1 = extract_hds_arrays_and_list_dfs(sim_ws)\n",
    "inc1.loc[:,'mar'] = inc1.api +inc1.drn\n",
    "inc1.head()"
   ]
  },
  {
   "cell_type": "code",
   "execution_count": 30,
   "metadata": {},
   "outputs": [
    {
     "data": {
      "text/plain": [
       "(6, -572662307)"
      ]
     },
     "execution_count": 30,
     "metadata": {},
     "output_type": "execute_result"
    }
   ],
   "source": [
    "mar_nodes.shape[0], nbound[0]"
   ]
  },
  {
   "cell_type": "code",
   "execution_count": 31,
   "metadata": {},
   "outputs": [
    {
     "data": {
      "text/plain": [
       "<AxesSubplot:xlabel='totim'>"
      ]
     },
     "execution_count": 31,
     "metadata": {},
     "output_type": "execute_result"
    },
    {
     "data": {
      "image/png": "[encoded data removed]",
      "text/plain": [
       "<Figure size 432x288 with 1 Axes>"
      ]
     },
     "metadata": {
      "needs_background": "light"
     },
     "output_type": "display_data"
    }
   ],
   "source": [
    "(inc1.mar/inc1.wel).plot()"
   ]
  },
  {
   "cell_type": "code",
   "execution_count": 32,
   "metadata": {},
   "outputs": [
    {
     "data": {
      "text/plain": [
       "<AxesSubplot:xlabel='totim'>"
      ]
     },
     "execution_count": 32,
     "metadata": {},
     "output_type": "execute_result"
    },
    {
     "data": {
      "image/png": "[encoded data removed]",
      "text/plain": [
       "<Figure size 432x288 with 1 Axes>"
      ]
     },
     "metadata": {
      "needs_background": "light"
     },
     "output_type": "display_data"
    }
   ],
   "source": [
    "inc1.plot(y=['api','mar', 'wel', 'drn'])"
   ]
  },
  {
   "cell_type": "code",
   "execution_count": 27,
   "metadata": {},
   "outputs": [
    {
     "data": {
      "image/png": "[encoded data removed]",
      "text/plain": [
       "<Figure size 360x360 with 2 Axes>"
      ]
     },
     "metadata": {
      "needs_background": "light"
     },
     "output_type": "display_data"
    }
   ],
   "source": [
    "plot_heads()"
   ]
  },
  {
   "cell_type": "code",
   "execution_count": null,
   "metadata": {},
   "outputs": [],
   "source": []
  },
  {
   "cell_type": "code",
   "execution_count": null,
   "metadata": {},
   "outputs": [],
   "source": []
  }
 ],
 "metadata": {
  "kernelspec": {
   "display_name": "Python 3.8.10 ('base')",
   "language": "python",
   "name": "python3"
  },
  "language_info": {
   "codemirror_mode": {
    "name": "ipython",
    "version": 3
   },
   "file_extension": ".py",
   "mimetype": "text/x-python",
   "name": "python",
   "nbconvert_exporter": "python",
   "pygments_lexer": "ipython3",
   "version": "3.8.10"
  },
  "vscode": {
   "interpreter": {
    "hash": "2bd29523f9dd1e186d197b4c0245f8bacf25952a604cf3d33a6042c2a02c3a24"
   }
  }
 },
 "nbformat": 4,
 "nbformat_minor": 2
}
